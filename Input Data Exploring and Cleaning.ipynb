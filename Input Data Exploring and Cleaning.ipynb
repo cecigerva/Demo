{
 "cells": [
  {
   "cell_type": "code",
   "execution_count": 1,
   "id": "f7f7cacc",
   "metadata": {},
   "outputs": [
    {
     "name": "stdout",
     "output_type": "stream",
     "text": [
      "Intel MKL WARNING: Support of Intel(R) Streaming SIMD Extensions 4.2 (Intel(R) SSE4.2) enabled only processors has been deprecated. Intel oneAPI Math Kernel Library 2025.0 will require Intel(R) Advanced Vector Extensions (Intel(R) AVX) instructions.\n",
      "Intel MKL WARNING: Support of Intel(R) Streaming SIMD Extensions 4.2 (Intel(R) SSE4.2) enabled only processors has been deprecated. Intel oneAPI Math Kernel Library 2025.0 will require Intel(R) Advanced Vector Extensions (Intel(R) AVX) instructions.\n"
     ]
    }
   ],
   "source": [
    "import pandas as pd\n",
    "import numpy as np\n",
    "#from sklearn.preprocessing import Binarizer\n",
    "#from sklearn.preprocessing import LabelBinarizer\n",
    "\n",
    "#pd.set_option('display.max_rows', None)"
   ]
  },
  {
   "cell_type": "code",
   "execution_count": 3,
   "id": "207e66a9",
   "metadata": {},
   "outputs": [],
   "source": [
    "# Read csv file\n",
    "census_input = pd.read_csv('adult.input')"
   ]
  },
  {
   "cell_type": "code",
   "execution_count": 4,
   "id": "c5c37b08",
   "metadata": {
    "scrolled": true
   },
   "outputs": [
    {
     "data": {
      "text/html": [
       "<div>\n",
       "<style scoped>\n",
       "    .dataframe tbody tr th:only-of-type {\n",
       "        vertical-align: middle;\n",
       "    }\n",
       "\n",
       "    .dataframe tbody tr th {\n",
       "        vertical-align: top;\n",
       "    }\n",
       "\n",
       "    .dataframe thead th {\n",
       "        text-align: right;\n",
       "    }\n",
       "</style>\n",
       "<table border=\"1\" class=\"dataframe\">\n",
       "  <thead>\n",
       "    <tr style=\"text-align: right;\">\n",
       "      <th></th>\n",
       "      <th>age</th>\n",
       "      <th>type_employer</th>\n",
       "      <th>fnlwgt</th>\n",
       "      <th>education</th>\n",
       "      <th>education_num</th>\n",
       "      <th>marital</th>\n",
       "      <th>occupation</th>\n",
       "      <th>relationship</th>\n",
       "      <th>race</th>\n",
       "      <th>sex</th>\n",
       "      <th>capital_gain</th>\n",
       "      <th>capital_loss</th>\n",
       "      <th>hr_per_week</th>\n",
       "      <th>country</th>\n",
       "      <th>income</th>\n",
       "    </tr>\n",
       "  </thead>\n",
       "  <tbody>\n",
       "    <tr>\n",
       "      <th>0</th>\n",
       "      <td>24</td>\n",
       "      <td>Private</td>\n",
       "      <td>176189</td>\n",
       "      <td>HS-grad</td>\n",
       "      <td>9</td>\n",
       "      <td>Married-civ-spouse</td>\n",
       "      <td>Machine-op-inspct</td>\n",
       "      <td>Husband</td>\n",
       "      <td>White</td>\n",
       "      <td>Male</td>\n",
       "      <td>0</td>\n",
       "      <td>0</td>\n",
       "      <td>40</td>\n",
       "      <td>United-States</td>\n",
       "      <td>&lt;=50K</td>\n",
       "    </tr>\n",
       "    <tr>\n",
       "      <th>1</th>\n",
       "      <td>30</td>\n",
       "      <td>Private</td>\n",
       "      <td>161690</td>\n",
       "      <td>Assoc-voc</td>\n",
       "      <td>11</td>\n",
       "      <td>Never-married</td>\n",
       "      <td>Prof-specialty</td>\n",
       "      <td>Not-in-family</td>\n",
       "      <td>White</td>\n",
       "      <td>Female</td>\n",
       "      <td>0</td>\n",
       "      <td>0</td>\n",
       "      <td>40</td>\n",
       "      <td>United-States</td>\n",
       "      <td>&lt;=50K</td>\n",
       "    </tr>\n",
       "    <tr>\n",
       "      <th>2</th>\n",
       "      <td>60</td>\n",
       "      <td>Private</td>\n",
       "      <td>145493</td>\n",
       "      <td>Some-college</td>\n",
       "      <td>10</td>\n",
       "      <td>Divorced</td>\n",
       "      <td>Adm-clerical</td>\n",
       "      <td>Not-in-family</td>\n",
       "      <td>White</td>\n",
       "      <td>Female</td>\n",
       "      <td>0</td>\n",
       "      <td>0</td>\n",
       "      <td>40</td>\n",
       "      <td>United-States</td>\n",
       "      <td>&lt;=50K</td>\n",
       "    </tr>\n",
       "    <tr>\n",
       "      <th>3</th>\n",
       "      <td>42</td>\n",
       "      <td>Private</td>\n",
       "      <td>144995</td>\n",
       "      <td>Preschool</td>\n",
       "      <td>1</td>\n",
       "      <td>Never-married</td>\n",
       "      <td>Handlers-cleaners</td>\n",
       "      <td>Not-in-family</td>\n",
       "      <td>White</td>\n",
       "      <td>Male</td>\n",
       "      <td>0</td>\n",
       "      <td>0</td>\n",
       "      <td>25</td>\n",
       "      <td>United-States</td>\n",
       "      <td>&lt;=50K</td>\n",
       "    </tr>\n",
       "    <tr>\n",
       "      <th>4</th>\n",
       "      <td>23</td>\n",
       "      <td>Private</td>\n",
       "      <td>50341</td>\n",
       "      <td>Masters</td>\n",
       "      <td>14</td>\n",
       "      <td>Never-married</td>\n",
       "      <td>Sales</td>\n",
       "      <td>Not-in-family</td>\n",
       "      <td>White</td>\n",
       "      <td>Female</td>\n",
       "      <td>0</td>\n",
       "      <td>0</td>\n",
       "      <td>20</td>\n",
       "      <td>United-States</td>\n",
       "      <td>&lt;=50K</td>\n",
       "    </tr>\n",
       "    <tr>\n",
       "      <th>...</th>\n",
       "      <td>...</td>\n",
       "      <td>...</td>\n",
       "      <td>...</td>\n",
       "      <td>...</td>\n",
       "      <td>...</td>\n",
       "      <td>...</td>\n",
       "      <td>...</td>\n",
       "      <td>...</td>\n",
       "      <td>...</td>\n",
       "      <td>...</td>\n",
       "      <td>...</td>\n",
       "      <td>...</td>\n",
       "      <td>...</td>\n",
       "      <td>...</td>\n",
       "      <td>...</td>\n",
       "    </tr>\n",
       "    <tr>\n",
       "      <th>3995</th>\n",
       "      <td>35</td>\n",
       "      <td>Self-emp-not-inc</td>\n",
       "      <td>198841</td>\n",
       "      <td>Prof-school</td>\n",
       "      <td>15</td>\n",
       "      <td>Married-civ-spouse</td>\n",
       "      <td>Prof-specialty</td>\n",
       "      <td>Husband</td>\n",
       "      <td>White</td>\n",
       "      <td>Male</td>\n",
       "      <td>0</td>\n",
       "      <td>0</td>\n",
       "      <td>50</td>\n",
       "      <td>United-States</td>\n",
       "      <td>&gt;50K</td>\n",
       "    </tr>\n",
       "    <tr>\n",
       "      <th>3996</th>\n",
       "      <td>35</td>\n",
       "      <td>Private</td>\n",
       "      <td>143589</td>\n",
       "      <td>Bachelors</td>\n",
       "      <td>13</td>\n",
       "      <td>Married-spouse-absent</td>\n",
       "      <td>Prof-specialty</td>\n",
       "      <td>Not-in-family</td>\n",
       "      <td>Asian-Pac-Islander</td>\n",
       "      <td>Female</td>\n",
       "      <td>0</td>\n",
       "      <td>0</td>\n",
       "      <td>40</td>\n",
       "      <td>Philippines</td>\n",
       "      <td>&lt;=50K</td>\n",
       "    </tr>\n",
       "    <tr>\n",
       "      <th>3997</th>\n",
       "      <td>36</td>\n",
       "      <td>Private</td>\n",
       "      <td>204590</td>\n",
       "      <td>Bachelors</td>\n",
       "      <td>13</td>\n",
       "      <td>Divorced</td>\n",
       "      <td>Prof-specialty</td>\n",
       "      <td>Unmarried</td>\n",
       "      <td>Black</td>\n",
       "      <td>Female</td>\n",
       "      <td>0</td>\n",
       "      <td>213</td>\n",
       "      <td>40</td>\n",
       "      <td>United-States</td>\n",
       "      <td>&lt;=50K</td>\n",
       "    </tr>\n",
       "    <tr>\n",
       "      <th>3998</th>\n",
       "      <td>21</td>\n",
       "      <td>Private</td>\n",
       "      <td>143604</td>\n",
       "      <td>HS-grad</td>\n",
       "      <td>9</td>\n",
       "      <td>Never-married</td>\n",
       "      <td>Adm-clerical</td>\n",
       "      <td>Own-child</td>\n",
       "      <td>White</td>\n",
       "      <td>Female</td>\n",
       "      <td>0</td>\n",
       "      <td>0</td>\n",
       "      <td>40</td>\n",
       "      <td>United-States</td>\n",
       "      <td>&lt;=50K</td>\n",
       "    </tr>\n",
       "    <tr>\n",
       "      <th>3999</th>\n",
       "      <td>50</td>\n",
       "      <td>Private</td>\n",
       "      <td>99925</td>\n",
       "      <td>HS-grad</td>\n",
       "      <td>9</td>\n",
       "      <td>Married-civ-spouse</td>\n",
       "      <td>Adm-clerical</td>\n",
       "      <td>Husband</td>\n",
       "      <td>White</td>\n",
       "      <td>Male</td>\n",
       "      <td>0</td>\n",
       "      <td>0</td>\n",
       "      <td>32</td>\n",
       "      <td>United-States</td>\n",
       "      <td>&lt;=50K</td>\n",
       "    </tr>\n",
       "  </tbody>\n",
       "</table>\n",
       "<p>4000 rows × 15 columns</p>\n",
       "</div>"
      ],
      "text/plain": [
       "      age     type_employer  fnlwgt     education  education_num  \\\n",
       "0      24           Private  176189       HS-grad              9   \n",
       "1      30           Private  161690     Assoc-voc             11   \n",
       "2      60           Private  145493  Some-college             10   \n",
       "3      42           Private  144995     Preschool              1   \n",
       "4      23           Private   50341       Masters             14   \n",
       "...   ...               ...     ...           ...            ...   \n",
       "3995   35  Self-emp-not-inc  198841   Prof-school             15   \n",
       "3996   35           Private  143589     Bachelors             13   \n",
       "3997   36           Private  204590     Bachelors             13   \n",
       "3998   21           Private  143604       HS-grad              9   \n",
       "3999   50           Private   99925       HS-grad              9   \n",
       "\n",
       "                    marital         occupation   relationship  \\\n",
       "0        Married-civ-spouse  Machine-op-inspct        Husband   \n",
       "1             Never-married     Prof-specialty  Not-in-family   \n",
       "2                  Divorced       Adm-clerical  Not-in-family   \n",
       "3             Never-married  Handlers-cleaners  Not-in-family   \n",
       "4             Never-married              Sales  Not-in-family   \n",
       "...                     ...                ...            ...   \n",
       "3995     Married-civ-spouse     Prof-specialty        Husband   \n",
       "3996  Married-spouse-absent     Prof-specialty  Not-in-family   \n",
       "3997               Divorced     Prof-specialty      Unmarried   \n",
       "3998          Never-married       Adm-clerical      Own-child   \n",
       "3999     Married-civ-spouse       Adm-clerical        Husband   \n",
       "\n",
       "                    race     sex  capital_gain  capital_loss  hr_per_week  \\\n",
       "0                  White    Male             0             0           40   \n",
       "1                  White  Female             0             0           40   \n",
       "2                  White  Female             0             0           40   \n",
       "3                  White    Male             0             0           25   \n",
       "4                  White  Female             0             0           20   \n",
       "...                  ...     ...           ...           ...          ...   \n",
       "3995               White    Male             0             0           50   \n",
       "3996  Asian-Pac-Islander  Female             0             0           40   \n",
       "3997               Black  Female             0           213           40   \n",
       "3998               White  Female             0             0           40   \n",
       "3999               White    Male             0             0           32   \n",
       "\n",
       "            country income  \n",
       "0     United-States  <=50K  \n",
       "1     United-States  <=50K  \n",
       "2     United-States  <=50K  \n",
       "3     United-States  <=50K  \n",
       "4     United-States  <=50K  \n",
       "...             ...    ...  \n",
       "3995  United-States   >50K  \n",
       "3996    Philippines  <=50K  \n",
       "3997  United-States  <=50K  \n",
       "3998  United-States  <=50K  \n",
       "3999  United-States  <=50K  \n",
       "\n",
       "[4000 rows x 15 columns]"
      ]
     },
     "execution_count": 4,
     "metadata": {},
     "output_type": "execute_result"
    }
   ],
   "source": [
    "# Display dataframe\n",
    "census_input"
   ]
  },
  {
   "cell_type": "code",
   "execution_count": null,
   "id": "e4712dad",
   "metadata": {},
   "outputs": [],
   "source": [
    "census_input.shape"
   ]
  },
  {
   "cell_type": "code",
   "execution_count": null,
   "id": "6105313f",
   "metadata": {},
   "outputs": [],
   "source": [
    "census_input.columns"
   ]
  },
  {
   "cell_type": "code",
   "execution_count": null,
   "id": "3f04a56c",
   "metadata": {},
   "outputs": [],
   "source": [
    "# Remove fnlwgt, education, and relationship\n",
    "census_input_subset = census_input [['age', 'type_employer', 'education_num',\n",
    "       'marital', 'occupation', 'race', 'sex', 'capital_gain',\n",
    "       'capital_loss', 'hr_per_week', 'country', 'income']]\n",
    "census_input_subset"
   ]
  },
  {
   "cell_type": "code",
   "execution_count": null,
   "id": "0c73fb1e",
   "metadata": {},
   "outputs": [],
   "source": [
    "# Check for missing values\n",
    "census_input_subset.isna().sum()"
   ]
  },
  {
   "cell_type": "code",
   "execution_count": null,
   "id": "b3e7c413",
   "metadata": {
    "scrolled": true
   },
   "outputs": [],
   "source": [
    "census_input_subset.describe(include=[\"O\"])"
   ]
  },
  {
   "cell_type": "code",
   "execution_count": null,
   "id": "5e74902c",
   "metadata": {},
   "outputs": [],
   "source": [
    "# Replacw ? in dataset with NaN values\n",
    "census_input_subset = census_input_subset.replace('?', np.nan )"
   ]
  },
  {
   "cell_type": "code",
   "execution_count": null,
   "id": "38591e67",
   "metadata": {},
   "outputs": [],
   "source": [
    "# Drop the rows that have NaN values\n",
    "census_input_subset = census_input_subset.dropna()"
   ]
  },
  {
   "cell_type": "code",
   "execution_count": null,
   "id": "dc337469",
   "metadata": {},
   "outputs": [],
   "source": [
    "# Resetting the indices using df.reset_index()\n",
    "census_input_subset = census_input_subset.reset_index(drop=True)"
   ]
  },
  {
   "cell_type": "code",
   "execution_count": null,
   "id": "a7f7ece3",
   "metadata": {},
   "outputs": [],
   "source": [
    "census_input_subset"
   ]
  },
  {
   "cell_type": "code",
   "execution_count": null,
   "id": "0b64c523",
   "metadata": {},
   "outputs": [],
   "source": [
    "# Check for data types\n",
    "census_input_subset.dtypes"
   ]
  },
  {
   "cell_type": "code",
   "execution_count": null,
   "id": "c1429d0f",
   "metadata": {},
   "outputs": [],
   "source": [
    "# Display histograms to explore data\n",
    "census_input_subset.hist(bins=60, figsize=(20,10))"
   ]
  },
  {
   "cell_type": "code",
   "execution_count": null,
   "id": "84fdd6d4",
   "metadata": {},
   "outputs": [],
   "source": [
    "census_input_subset['education_num'].value_counts()"
   ]
  },
  {
   "cell_type": "code",
   "execution_count": null,
   "id": "7ae8d585",
   "metadata": {},
   "outputs": [],
   "source": [
    "# Binarization of capital_gain and capital losses\n",
    "#cg = census_input_subset.iloc[:, 7].values\n",
    "#cg = census_input_subset['capital_gain'].values\n",
    "#cg = cg.reshape (1, -1)\n",
    "\n",
    "#cl = census_input_subset.iloc[:, 8].values\n",
    "#cl = census_input_subset['capital_loss'].values\n",
    "#cl = cl.reshape (1, -1)\n",
    "\n",
    "# capital-gain (yes:>0, no:=0) threshold=1\n",
    "#cg_bin = Binarizer(threshold = 1)\n",
    "# capital-loss (yes:>0, no:=0) threshold=1\n",
    "#cl_bin = Binarizer(threshold = 1)\n",
    "\n",
    "#capitalGain = cg_bin.fit_transform(cg)\n",
    "#capitalLoss = cg_bin.fit_transform(cl)\n",
    "#print(capitalGain)\n",
    "#print(capitalLoss)\n",
    "#x=cg_bin.fit_transform(cg)\n",
    "#print(cg_bin.fit_transform(cl))\n",
    "#print(x)\n"
   ]
  },
  {
   "cell_type": "code",
   "execution_count": null,
   "id": "89dad016",
   "metadata": {},
   "outputs": [],
   "source": [
    "census_input_sub = census_input_subset [['age', 'type_employer', 'education_num',\n",
    "       'marital', 'occupation', 'race', 'sex', 'capital_gain',\n",
    "       'capital_loss', 'hr_per_week', 'country', 'income']]\n",
    "census_input_sub"
   ]
  },
  {
   "cell_type": "code",
   "execution_count": null,
   "id": "ea48f35e",
   "metadata": {},
   "outputs": [],
   "source": [
    "# Binarize capital_gain\n",
    "census_input_sub['capital_gain_bin'] = census_input_sub['capital_gain'].astype('bool')\n",
    "print(census_input_sub['capital_gain_bin'])\n",
    "print(census_input_sub['capital_gain'])"
   ]
  },
  {
   "cell_type": "code",
   "execution_count": null,
   "id": "46607f70",
   "metadata": {},
   "outputs": [],
   "source": [
    "# Binarize capital_loss\n",
    "census_input_sub['capital_loss_bin'] = census_input_sub['capital_loss'].astype('bool')\n",
    "print(census_input_sub['capital_loss_bin'])\n",
    "print(census_input_sub['capital_loss'])\n",
    "census_input_sub['capital_loss_bin'].value_counts()"
   ]
  },
  {
   "cell_type": "code",
   "execution_count": null,
   "id": "0a39978c",
   "metadata": {},
   "outputs": [],
   "source": [
    "census_input_sub['capital_gain_bin'].value_counts()\n"
   ]
  },
  {
   "cell_type": "code",
   "execution_count": null,
   "id": "9d48892a",
   "metadata": {},
   "outputs": [],
   "source": [
    "census_input_sub\n"
   ]
  },
  {
   "cell_type": "code",
   "execution_count": null,
   "id": "f6208d01",
   "metadata": {},
   "outputs": [],
   "source": [
    "# Factorize country\n",
    "countries = pd.get_dummies(census_input_sub['country'])\n",
    "countries"
   ]
  },
  {
   "cell_type": "code",
   "execution_count": null,
   "id": "a6158011",
   "metadata": {},
   "outputs": [],
   "source": [
    "# Assign the value 1 for United State\n",
    "United_States = countries['United-States']\n",
    "print(United_States)"
   ]
  },
  {
   "cell_type": "code",
   "execution_count": null,
   "id": "a01834ff",
   "metadata": {},
   "outputs": [],
   "source": [
    "# Create a new column for binarized country where 1 is for United States and 0 for other\n",
    "census_input_sub['country_bin'] = United_States\n",
    "census_input_sub"
   ]
  },
  {
   "cell_type": "code",
   "execution_count": null,
   "id": "7b16d7dc",
   "metadata": {},
   "outputs": [],
   "source": [
    "# Factorize sex and assing the value 1 for female\n",
    "sex = pd.get_dummies(census_input_sub['sex'])\n",
    "female = sex['Female']\n",
    "\n",
    "# Create a new column for binarized sex where female is 1 and males is 0\n",
    "census_input_sub['sex_bin'] = female"
   ]
  },
  {
   "cell_type": "code",
   "execution_count": null,
   "id": "a14f082d",
   "metadata": {},
   "outputs": [],
   "source": [
    "# Discretize age into 4 different bins\n",
    "bins = [0, 25, 45, 65, 90]\n",
    "census_input_sub['age_dis'] = pd.cut(census_input_sub['age'], bins, labels = ['young', 'adult', 'senior', 'old'], include_lowest = True)\n",
    "\n",
    "print(census_input_sub['age'])\n",
    "print(census_input_sub['age_dis'])"
   ]
  },
  {
   "cell_type": "code",
   "execution_count": null,
   "id": "9e8ac2c8",
   "metadata": {},
   "outputs": [],
   "source": [
    "# Convert age into asymetric binary attributes\n",
    "age = pd.get_dummies(census_input_sub['age_dis'])\n",
    "age\n"
   ]
  },
  {
   "cell_type": "code",
   "execution_count": null,
   "id": "8863c87b",
   "metadata": {},
   "outputs": [],
   "source": [
    "# Create a new column for discretized age and drop the old column for age\n",
    "census_input_sub = pd.concat([census_input_sub.drop(['age_dis'],axis=1), age],axis=1)"
   ]
  },
  {
   "cell_type": "code",
   "execution_count": null,
   "id": "e0ed655d",
   "metadata": {},
   "outputs": [],
   "source": [
    "bins = [0, 39, 40, 70]\n",
    "census_input_sub['hr_per_week_dis'] = pd.cut(census_input_sub['hr_per_week'], bins, labels = ['part-time', 'full-time', 'over-time'], include_lowest = True)\n",
    "\n",
    "print(census_input_sub['hr_per_week'])\n",
    "print(census_input_sub['hr_per_week_dis'])"
   ]
  },
  {
   "cell_type": "code",
   "execution_count": null,
   "id": "f4b87649",
   "metadata": {},
   "outputs": [],
   "source": [
    "# Discretize hr_per_week into 3 different bins\n",
    "hr_per_week = pd.get_dummies(census_input_sub['hr_per_week_dis'])\n",
    "hr_per_week"
   ]
  },
  {
   "cell_type": "code",
   "execution_count": null,
   "id": "7268167d",
   "metadata": {},
   "outputs": [],
   "source": [
    "# Create a new column for discretized hr_per_week and drop the old column for hr_per_week\n",
    "census_input_sub = pd.concat([census_input_sub.drop(['hr_per_week_dis'],axis=1), hr_per_week],axis=1)"
   ]
  },
  {
   "cell_type": "code",
   "execution_count": null,
   "id": "aeca6c4a",
   "metadata": {},
   "outputs": [],
   "source": [
    "# Check for possible valus for race\n",
    "census_input_sub['race'].value_counts()"
   ]
  },
  {
   "cell_type": "code",
   "execution_count": null,
   "id": "56c361dc",
   "metadata": {},
   "outputs": [],
   "source": [
    "# Factorize race to convert it into asymetric binary attributes\n",
    "race = pd.get_dummies(census_input_sub['race'])\n",
    "race"
   ]
  },
  {
   "cell_type": "code",
   "execution_count": null,
   "id": "e112b959",
   "metadata": {},
   "outputs": [],
   "source": [
    "# Create a new columns race and drop the old categorical column\n",
    "census_input_sub = pd.concat([census_input_sub.drop(['race'],axis=1), race],axis=1)"
   ]
  },
  {
   "cell_type": "code",
   "execution_count": null,
   "id": "fb6cce1f",
   "metadata": {},
   "outputs": [],
   "source": [
    "census_input_sub"
   ]
  },
  {
   "cell_type": "code",
   "execution_count": null,
   "id": "7e6315bf",
   "metadata": {},
   "outputs": [],
   "source": [
    "# creating a blank series\n",
    "Not_married = pd.Series(['int32'])\n",
    " \n",
    "# running a for loop and assigning some values to series\n",
    "for i in range(len(census_input_sub)):\n",
    "    if census_input_sub[\"marital\"][i] == \"Married-spouse-absent\":\n",
    "        Not_married[i] = 1\n",
    " \n",
    "    elif census_input_sub[\"marital\"][i] == \"Separated\":\n",
    "        Not_married[i] = 1\n",
    " \n",
    "    elif census_input_sub[\"marital\"][i] == \"Divorced\":\n",
    "        Not_married[i] = 1\n",
    "        \n",
    "    elif census_input_sub[\"marital\"][i] == \"Widowed\":\n",
    "        Not_married[i]= 1\n",
    " \n",
    "    else:\n",
    "        Not_married[i] = 0\n",
    "         \n",
    "# inserting new column with values of list made above       \n",
    "census_input_sub.insert(2, \"not-married\", Not_married)\n",
    " \n",
    "# list output\n",
    "census_input_sub"
   ]
  },
  {
   "cell_type": "code",
   "execution_count": null,
   "id": "94021b9f",
   "metadata": {},
   "outputs": [],
   "source": [
    "# creating a blank series\n",
    "Married = pd.Series(['int32'])\n",
    " \n",
    "# running a for loop and assigning some values to series\n",
    "for i in range(len(census_input_sub)):\n",
    "    if census_input_sub[\"marital\"][i] == \"Married-AF-spouse\":\n",
    "        Married[i] = 1\n",
    " \n",
    "    elif census_input_sub[\"marital\"][i] == \"Married-civ-spouse\":\n",
    "        Married[i] = 1\n",
    " \n",
    "    else:\n",
    "        Married[i] = 0\n",
    "         \n",
    "# inserting new column with values of list made above       \n",
    "census_input_sub.insert(2, \"married\", Married)\n",
    " \n",
    "# list output\n",
    "census_input_sub"
   ]
  },
  {
   "cell_type": "code",
   "execution_count": null,
   "id": "1e783c14",
   "metadata": {},
   "outputs": [],
   "source": [
    "# creating a blank series\n",
    "Never_married = pd.Series(['int32'])\n",
    " \n",
    "# running a for loop and assigning some values to series\n",
    "for i in range(len(census_input_sub)):\n",
    "    if census_input_sub[\"marital\"][i] == \"Never-married\":\n",
    "        Never_married[i] = 1\n",
    " \n",
    "    else:\n",
    "        Never_married[i] = 0\n",
    "         \n",
    "# inserting new column with values of list made above       \n",
    "census_input_sub.insert(2, \"never_married\", Never_married)\n",
    " \n",
    "# list output\n",
    "census_input_sub"
   ]
  },
  {
   "cell_type": "code",
   "execution_count": null,
   "id": "8a092e75",
   "metadata": {},
   "outputs": [],
   "source": [
    "census_input_sub.drop(['capital_gain', 'capital_loss', 'country', 'sex', 'age', 'hr_per_week', 'marital'], axis=1)"
   ]
  },
  {
   "cell_type": "code",
   "execution_count": null,
   "id": "807ab5fb",
   "metadata": {},
   "outputs": [],
   "source": [
    "# creating a blank series\n",
    "Gov = pd.Series(['int32'])\n",
    " \n",
    "# running a for loop and assigning some values to series\n",
    "for i in range(len(census_input_sub)):\n",
    "    if census_input_sub[\"type_employer\"][i] == \"Federal-gov\":\n",
    "        Gov[i] = 1\n",
    " \n",
    "    elif census_input_sub[\"type_employer\"][i] == \"Local-gov\":\n",
    "        Gov[i] = 1\n",
    " \n",
    "    elif census_input_sub[\"type_employer\"][i] == \"State-gov\":\n",
    "        Gov[i] = 1\n",
    " \n",
    "    else:\n",
    "        Gov[i] = 0\n",
    "         \n",
    "# inserting new column with values of list made above       \n",
    "census_input_sub.insert(2, \"gov\", Gov)\n",
    " \n",
    "# list output\n",
    "census_input_sub"
   ]
  },
  {
   "cell_type": "code",
   "execution_count": null,
   "id": "e5c2a9d0",
   "metadata": {},
   "outputs": [],
   "source": [
    "# creating a blank series\n",
    "Not_working = pd.Series(['int32'])\n",
    " \n",
    "# running a for loop and assigning some values to series\n",
    "for i in range(len(census_input_sub)):\n",
    "    if census_input_sub[\"type_employer\"][i] == \"Without-pay\":\n",
    "        Not_working[i] = 1\n",
    " \n",
    "    elif census_input_sub[\"type_employer\"][i] == \"Never-worked\":\n",
    "        Not_working[i] = 1\n",
    " \n",
    "    else:\n",
    "        Not_working[i] = 0\n",
    "         \n",
    "# inserting new column with values of list made above       \n",
    "census_input_sub.insert(2, \"not_working\", Not_working)\n",
    " \n",
    "# list output\n",
    "census_input_sub"
   ]
  },
  {
   "cell_type": "code",
   "execution_count": null,
   "id": "9d35f8aa",
   "metadata": {},
   "outputs": [],
   "source": [
    "# creating a blank series\n",
    "Private = pd.Series(['int32'])\n",
    " \n",
    "# running a for loop and assigning some values to series\n",
    "for i in range(len(census_input_sub)):\n",
    "    if census_input_sub[\"type_employer\"][i] == \"Private\":\n",
    "        Private[i] = 1\n",
    " \n",
    "    else:\n",
    "        Private[i] = 0\n",
    "         \n",
    "# inserting new column with values of list made above       \n",
    "census_input_sub.insert(2, \"private\", Private)\n",
    " \n",
    "# list output\n",
    "census_input_sub"
   ]
  },
  {
   "cell_type": "code",
   "execution_count": null,
   "id": "eed92814",
   "metadata": {},
   "outputs": [],
   "source": [
    "# creating a blank series\n",
    "Self_employed = pd.Series(['int32'])\n",
    " \n",
    "# running a for loop and assigning some values to series\n",
    "for i in range(len(census_input_sub)):\n",
    "    if census_input_sub[\"type_employer\"][i] == \"Self-emp-inc\":\n",
    "        Self_employed[i] = 1\n",
    " \n",
    "    elif census_input_sub[\"type_employer\"][i] == \"Self-emp-not-inc\":\n",
    "        Self_employed[i] = 1\n",
    " \n",
    "    else:\n",
    "        Self_employed[i] = 0\n",
    "         \n",
    "# inserting new column with values of list made above       \n",
    "census_input_sub.insert(2, \"self_employed\", Self_employed)\n",
    " \n",
    "# list output\n",
    "census_input_sub"
   ]
  },
  {
   "cell_type": "code",
   "execution_count": null,
   "id": "c7e43ad8",
   "metadata": {},
   "outputs": [],
   "source": [
    "# creating a blank series\n",
    "Other = pd.Series(['int32'])\n",
    " \n",
    "# running a for loop and assigning some values to series\n",
    "for i in range(len(census_input_sub)):\n",
    "    if census_input_sub[\"occupation\"][i] == \"Tech-support\":\n",
    "        Other[i] = 1\n",
    " \n",
    "    elif census_input_sub[\"occupation\"][i] == \"Adm-clerical\":\n",
    "        Other[i] = 1\n",
    " \n",
    "    elif census_input_sub[\"occupation\"][i] == \"Priv-house-serv\":\n",
    "        Other[i] = 1\n",
    "        \n",
    "    elif census_input_sub[\"occupation\"][i] == \"Protective-serv\":\n",
    "        Other[i]= 1\n",
    " \n",
    "    elif census_input_sub[\"occupation\"][i] == \"Armed-Forces\":\n",
    "        Other[i]= 1\n",
    "        \n",
    "    elif census_input_sub[\"occupation\"][i] == \"Other-service\":\n",
    "        Other[i]= 1\n",
    "\n",
    "    else:\n",
    "        Other[i] = 0\n",
    "         \n",
    "# inserting new column with values of list made above       \n",
    "census_input_sub.insert(2, \"other\", Other)\n",
    " \n",
    "# list output\n",
    "census_input_sub"
   ]
  },
  {
   "cell_type": "code",
   "execution_count": null,
   "id": "24873526",
   "metadata": {},
   "outputs": [],
   "source": [
    "# creating a blank series\n",
    "Exec_managerial = pd.Series(['int32'])\n",
    " \n",
    "# running a for loop and assigning some values to series\n",
    "for i in range(len(census_input_sub)):\n",
    "    if census_input_sub[\"occupation\"][i] == \"Exec-managerial\":\n",
    "        Exec_managerial[i] = 1\n",
    " \n",
    "    else:\n",
    "        Exec_managerial[i] = 0\n",
    "         \n",
    "# inserting new column with values of list made above       \n",
    "census_input_sub.insert(2, \"exec_managerial\", Exec_managerial)\n",
    " \n",
    "# list output\n",
    "census_input_sub"
   ]
  },
  {
   "cell_type": "code",
   "execution_count": null,
   "id": "09b03f6c",
   "metadata": {},
   "outputs": [],
   "source": [
    "# creating a blank series\n",
    "Prof_specialty = pd.Series(['int32'])\n",
    " \n",
    "# running a for loop and assigning some values to series\n",
    "for i in range(len(census_input_sub)):\n",
    "    if census_input_sub[\"occupation\"][i] == \"Prof-specialty\":\n",
    "        Prof_specialty[i] = 1\n",
    " \n",
    "    else:\n",
    "        Prof_specialty[i] = 0\n",
    "         \n",
    "# inserting new column with values of list made above       \n",
    "census_input_sub.insert(2, \"prof_specialty\", Prof_specialty)\n",
    " \n",
    "# list output\n",
    "census_input_sub"
   ]
  },
  {
   "cell_type": "code",
   "execution_count": null,
   "id": "8462f3f4",
   "metadata": {},
   "outputs": [],
   "source": [
    "# creating a blank series\n",
    "Sales = pd.Series(['int32'])\n",
    " \n",
    "# running a for loop and assigning some values to series\n",
    "for i in range(len(census_input_sub)):\n",
    "    if census_input_sub[\"occupation\"][i] == \"Sales\":\n",
    "        Sales[i] = 1\n",
    " \n",
    "    else:\n",
    "        Sales[i] = 0\n",
    "         \n",
    "# inserting new column with values of list made above       \n",
    "census_input_sub.insert(2, \"sales\", Sales)\n",
    " \n",
    "# list output\n",
    "census_input_sub"
   ]
  },
  {
   "cell_type": "code",
   "execution_count": null,
   "id": "80b98798",
   "metadata": {},
   "outputs": [],
   "source": [
    "# creating a blank series\n",
    "ManualWork = pd.Series(['int32'])\n",
    " \n",
    "# running a for loop and assigning some values to series\n",
    "for i in range(len(census_input_sub)):\n",
    "    if census_input_sub[\"occupation\"][i] == \"Craft-repair\":\n",
    "        ManualWork[i] = 1\n",
    " \n",
    "    elif census_input_sub[\"occupation\"][i] == \"Farming-fishing\":\n",
    "        ManualWork[i] = 1\n",
    " \n",
    "    elif census_input_sub[\"occupation\"][i] == \"Handlers-cleaners\":\n",
    "        ManualWork[i] = 1\n",
    "        \n",
    "    elif census_input_sub[\"occupation\"][i] == \"Machine-op-inspct\":\n",
    "        ManualWork[i]= 1\n",
    " \n",
    "    elif census_input_sub[\"occupation\"][i] == \"Transport-moving\":\n",
    "        ManualWork[i]= 1\n",
    "\n",
    "    else:\n",
    "        ManualWork[i] = 0\n",
    "         \n",
    "# inserting new column with values of list made above       \n",
    "census_input_sub.insert(2, \"manual_work\", ManualWork)\n",
    " \n",
    "# list output\n",
    "census_input_sub"
   ]
  },
  {
   "cell_type": "code",
   "execution_count": null,
   "id": "6e18016f",
   "metadata": {},
   "outputs": [],
   "source": [
    "# Display dataframe with all columns\n",
    "pd.set_option('display.max_columns', None)"
   ]
  },
  {
   "cell_type": "code",
   "execution_count": null,
   "id": "c4e942a1",
   "metadata": {},
   "outputs": [],
   "source": [
    "# Factorize income\n",
    "income = pd.get_dummies(census_input_sub['income'])\n",
    "income"
   ]
  },
  {
   "cell_type": "code",
   "execution_count": null,
   "id": "3290d756",
   "metadata": {},
   "outputs": [],
   "source": [
    "# Assign the value 1 for income over 50K\n",
    "over50k = income['>50K']\n",
    "print(over50k)"
   ]
  },
  {
   "cell_type": "code",
   "execution_count": null,
   "id": "419f5846",
   "metadata": {},
   "outputs": [],
   "source": [
    "# Merge values in one binarized new income column where 1 is assigned for incomes over 50K\n",
    "census_input_sub['income'] = over50k\n",
    "census_input_sub"
   ]
  },
  {
   "cell_type": "code",
   "execution_count": null,
   "id": "39fb364e",
   "metadata": {},
   "outputs": [],
   "source": [
    "# Factorize education_num in order to convert it into asymetric binary attributes\n",
    "education_num = pd.get_dummies(census_input_sub['education_num'])\n",
    "education_num"
   ]
  },
  {
   "cell_type": "code",
   "execution_count": null,
   "id": "c36c9a07",
   "metadata": {},
   "outputs": [],
   "source": [
    "# Concatenate new attributes into the dataframe and drop the old numerical attribute\n",
    "census_input_sub = pd.concat([census_input_sub.drop(['education_num'],axis=1), education_num],axis=1)"
   ]
  },
  {
   "cell_type": "code",
   "execution_count": null,
   "id": "82e15f84",
   "metadata": {},
   "outputs": [],
   "source": [
    "census_input_sub"
   ]
  },
  {
   "cell_type": "code",
   "execution_count": null,
   "id": "9830933b",
   "metadata": {},
   "outputs": [],
   "source": [
    "# shift column 'income' to last position\n",
    "last_column = census_input_sub.pop('income')\n",
    "  \n",
    "# insert column using insert(position,column_name,last_column) function\n",
    "census_input_sub.insert(53, 'income', last_column)\n",
    "\n",
    "census_input_sub"
   ]
  },
  {
   "cell_type": "code",
   "execution_count": null,
   "id": "26686cd2",
   "metadata": {
    "scrolled": true
   },
   "outputs": [],
   "source": [
    "# Drop unnecessary categorical columns\n",
    "census_input_s = census_input_sub.drop(['capital_gain', 'capital_loss', 'country', 'sex', 'age', 'hr_per_week', 'marital', 'type_employer','occupation'], axis=1)\n",
    "census_input_s"
   ]
  },
  {
   "cell_type": "code",
   "execution_count": null,
   "id": "102c33cd",
   "metadata": {},
   "outputs": [],
   "source": [
    "# Get dataframe size and dimentionality\n",
    "shape = census_input_s.shape \n",
    "\n",
    "\n",
    "# printing size and dimentionality\n",
    "print(\"Input data: {}\".format(shape))"
   ]
  },
  {
   "cell_type": "code",
   "execution_count": null,
   "id": "d2d36ce3",
   "metadata": {},
   "outputs": [],
   "source": [
    "# Reorder columns\n",
    "#column_order = ['young', 'adult', 'senior', 'old',  'gov', 'not_working', 'private', 'self_employed', 1, 2, 3, \n",
    "                #4, 5, 6, 7, 8, 9, 10, 11, 12, 13, 14, 15, 16,'married', 'never_married','not-married', \n",
    "                #'exec_managerial', 'prof_specialty', 'other','manual_work', 'sales', 'Black', 'White', \n",
    "                #'Amer-Indian-Eskimo', 'Asian-Pac-Islander', 'Other', 'sex_bin', 'capital_gain_bin', \n",
    "                #'capital_loss_bin', 'part-time', 'full-time', 'over-time', 'country_bin', 'income']\n",
    "#census_input_s = census_input_s.reindex(columns=column_order)"
   ]
  },
  {
   "cell_type": "code",
   "execution_count": null,
   "id": "09d8a6e5",
   "metadata": {},
   "outputs": [],
   "source": [
    "# Export cleaned and filtered dataframe\n",
    "census_input_s.to_csv('adult.input-filtered.csv')"
   ]
  }
 ],
 "metadata": {
  "kernelspec": {
   "display_name": "Python 3 (ipykernel)",
   "language": "python",
   "name": "python3"
  },
  "language_info": {
   "codemirror_mode": {
    "name": "ipython",
    "version": 3
   },
   "file_extension": ".py",
   "mimetype": "text/x-python",
   "name": "python",
   "nbconvert_exporter": "python",
   "pygments_lexer": "ipython3",
   "version": "3.9.17"
  }
 },
 "nbformat": 4,
 "nbformat_minor": 5
}
