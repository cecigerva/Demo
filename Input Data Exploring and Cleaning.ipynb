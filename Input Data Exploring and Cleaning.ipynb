{
 "cells": [
  {
   "cell_type": "code",
   "execution_count": 1,
   "id": "f7f7cacc",
   "metadata": {},
   "outputs": [],
   "source": [
    "import pandas as pd\n",
    "import numpy as np\n",
    "#from sklearn.preprocessing import Binarizer\n",
    "#from sklearn.preprocessing import LabelBinarizer\n",
    "\n",
    "#pd.set_option('display.max_rows', None)"
   ]
  },
  {
   "cell_type": "code",
   "execution_count": 2,
   "id": "207e66a9",
   "metadata": {},
   "outputs": [
    {
     "ename": "FileNotFoundError",
     "evalue": "[Errno 2] No such file or directory: 'adult.input'",
     "output_type": "error",
     "traceback": [
      "\u001b[0;31m---------------------------------------------------------------------------\u001b[0m",
      "\u001b[0;31mFileNotFoundError\u001b[0m                         Traceback (most recent call last)",
      "\u001b[0;32m/var/folders/7l/2mq56pd51dsf6sscfhn7cv4w0000gp/T/ipykernel_6027/3269827214.py\u001b[0m in \u001b[0;36m<module>\u001b[0;34m\u001b[0m\n\u001b[1;32m      1\u001b[0m \u001b[0;31m# Read csv file\u001b[0m\u001b[0;34m\u001b[0m\u001b[0;34m\u001b[0m\u001b[0m\n\u001b[0;32m----> 2\u001b[0;31m \u001b[0mcensus_input\u001b[0m \u001b[0;34m=\u001b[0m \u001b[0mpd\u001b[0m\u001b[0;34m.\u001b[0m\u001b[0mread_csv\u001b[0m\u001b[0;34m(\u001b[0m\u001b[0;34m\"adult.input\"\u001b[0m\u001b[0;34m)\u001b[0m\u001b[0;34m\u001b[0m\u001b[0;34m\u001b[0m\u001b[0m\n\u001b[0m",
      "\u001b[0;32m~/opt/anaconda3/lib/python3.9/site-packages/pandas/util/_decorators.py\u001b[0m in \u001b[0;36mwrapper\u001b[0;34m(*args, **kwargs)\u001b[0m\n\u001b[1;32m    309\u001b[0m                     \u001b[0mstacklevel\u001b[0m\u001b[0;34m=\u001b[0m\u001b[0mstacklevel\u001b[0m\u001b[0;34m,\u001b[0m\u001b[0;34m\u001b[0m\u001b[0;34m\u001b[0m\u001b[0m\n\u001b[1;32m    310\u001b[0m                 )\n\u001b[0;32m--> 311\u001b[0;31m             \u001b[0;32mreturn\u001b[0m \u001b[0mfunc\u001b[0m\u001b[0;34m(\u001b[0m\u001b[0;34m*\u001b[0m\u001b[0margs\u001b[0m\u001b[0;34m,\u001b[0m \u001b[0;34m**\u001b[0m\u001b[0mkwargs\u001b[0m\u001b[0;34m)\u001b[0m\u001b[0;34m\u001b[0m\u001b[0;34m\u001b[0m\u001b[0m\n\u001b[0m\u001b[1;32m    312\u001b[0m \u001b[0;34m\u001b[0m\u001b[0m\n\u001b[1;32m    313\u001b[0m         \u001b[0;32mreturn\u001b[0m \u001b[0mwrapper\u001b[0m\u001b[0;34m\u001b[0m\u001b[0;34m\u001b[0m\u001b[0m\n",
      "\u001b[0;32m~/opt/anaconda3/lib/python3.9/site-packages/pandas/io/parsers/readers.py\u001b[0m in \u001b[0;36mread_csv\u001b[0;34m(filepath_or_buffer, sep, delimiter, header, names, index_col, usecols, squeeze, prefix, mangle_dupe_cols, dtype, engine, converters, true_values, false_values, skipinitialspace, skiprows, skipfooter, nrows, na_values, keep_default_na, na_filter, verbose, skip_blank_lines, parse_dates, infer_datetime_format, keep_date_col, date_parser, dayfirst, cache_dates, iterator, chunksize, compression, thousands, decimal, lineterminator, quotechar, quoting, doublequote, escapechar, comment, encoding, encoding_errors, dialect, error_bad_lines, warn_bad_lines, on_bad_lines, delim_whitespace, low_memory, memory_map, float_precision, storage_options)\u001b[0m\n\u001b[1;32m    584\u001b[0m     \u001b[0mkwds\u001b[0m\u001b[0;34m.\u001b[0m\u001b[0mupdate\u001b[0m\u001b[0;34m(\u001b[0m\u001b[0mkwds_defaults\u001b[0m\u001b[0;34m)\u001b[0m\u001b[0;34m\u001b[0m\u001b[0;34m\u001b[0m\u001b[0m\n\u001b[1;32m    585\u001b[0m \u001b[0;34m\u001b[0m\u001b[0m\n\u001b[0;32m--> 586\u001b[0;31m     \u001b[0;32mreturn\u001b[0m \u001b[0m_read\u001b[0m\u001b[0;34m(\u001b[0m\u001b[0mfilepath_or_buffer\u001b[0m\u001b[0;34m,\u001b[0m \u001b[0mkwds\u001b[0m\u001b[0;34m)\u001b[0m\u001b[0;34m\u001b[0m\u001b[0;34m\u001b[0m\u001b[0m\n\u001b[0m\u001b[1;32m    587\u001b[0m \u001b[0;34m\u001b[0m\u001b[0m\n\u001b[1;32m    588\u001b[0m \u001b[0;34m\u001b[0m\u001b[0m\n",
      "\u001b[0;32m~/opt/anaconda3/lib/python3.9/site-packages/pandas/io/parsers/readers.py\u001b[0m in \u001b[0;36m_read\u001b[0;34m(filepath_or_buffer, kwds)\u001b[0m\n\u001b[1;32m    480\u001b[0m \u001b[0;34m\u001b[0m\u001b[0m\n\u001b[1;32m    481\u001b[0m     \u001b[0;31m# Create the parser.\u001b[0m\u001b[0;34m\u001b[0m\u001b[0;34m\u001b[0m\u001b[0m\n\u001b[0;32m--> 482\u001b[0;31m     \u001b[0mparser\u001b[0m \u001b[0;34m=\u001b[0m \u001b[0mTextFileReader\u001b[0m\u001b[0;34m(\u001b[0m\u001b[0mfilepath_or_buffer\u001b[0m\u001b[0;34m,\u001b[0m \u001b[0;34m**\u001b[0m\u001b[0mkwds\u001b[0m\u001b[0;34m)\u001b[0m\u001b[0;34m\u001b[0m\u001b[0;34m\u001b[0m\u001b[0m\n\u001b[0m\u001b[1;32m    483\u001b[0m \u001b[0;34m\u001b[0m\u001b[0m\n\u001b[1;32m    484\u001b[0m     \u001b[0;32mif\u001b[0m \u001b[0mchunksize\u001b[0m \u001b[0;32mor\u001b[0m \u001b[0miterator\u001b[0m\u001b[0;34m:\u001b[0m\u001b[0;34m\u001b[0m\u001b[0;34m\u001b[0m\u001b[0m\n",
      "\u001b[0;32m~/opt/anaconda3/lib/python3.9/site-packages/pandas/io/parsers/readers.py\u001b[0m in \u001b[0;36m__init__\u001b[0;34m(self, f, engine, **kwds)\u001b[0m\n\u001b[1;32m    809\u001b[0m             \u001b[0mself\u001b[0m\u001b[0;34m.\u001b[0m\u001b[0moptions\u001b[0m\u001b[0;34m[\u001b[0m\u001b[0;34m\"has_index_names\"\u001b[0m\u001b[0;34m]\u001b[0m \u001b[0;34m=\u001b[0m \u001b[0mkwds\u001b[0m\u001b[0;34m[\u001b[0m\u001b[0;34m\"has_index_names\"\u001b[0m\u001b[0;34m]\u001b[0m\u001b[0;34m\u001b[0m\u001b[0;34m\u001b[0m\u001b[0m\n\u001b[1;32m    810\u001b[0m \u001b[0;34m\u001b[0m\u001b[0m\n\u001b[0;32m--> 811\u001b[0;31m         \u001b[0mself\u001b[0m\u001b[0;34m.\u001b[0m\u001b[0m_engine\u001b[0m \u001b[0;34m=\u001b[0m \u001b[0mself\u001b[0m\u001b[0;34m.\u001b[0m\u001b[0m_make_engine\u001b[0m\u001b[0;34m(\u001b[0m\u001b[0mself\u001b[0m\u001b[0;34m.\u001b[0m\u001b[0mengine\u001b[0m\u001b[0;34m)\u001b[0m\u001b[0;34m\u001b[0m\u001b[0;34m\u001b[0m\u001b[0m\n\u001b[0m\u001b[1;32m    812\u001b[0m \u001b[0;34m\u001b[0m\u001b[0m\n\u001b[1;32m    813\u001b[0m     \u001b[0;32mdef\u001b[0m \u001b[0mclose\u001b[0m\u001b[0;34m(\u001b[0m\u001b[0mself\u001b[0m\u001b[0;34m)\u001b[0m\u001b[0;34m:\u001b[0m\u001b[0;34m\u001b[0m\u001b[0;34m\u001b[0m\u001b[0m\n",
      "\u001b[0;32m~/opt/anaconda3/lib/python3.9/site-packages/pandas/io/parsers/readers.py\u001b[0m in \u001b[0;36m_make_engine\u001b[0;34m(self, engine)\u001b[0m\n\u001b[1;32m   1038\u001b[0m             )\n\u001b[1;32m   1039\u001b[0m         \u001b[0;31m# error: Too many arguments for \"ParserBase\"\u001b[0m\u001b[0;34m\u001b[0m\u001b[0;34m\u001b[0m\u001b[0m\n\u001b[0;32m-> 1040\u001b[0;31m         \u001b[0;32mreturn\u001b[0m \u001b[0mmapping\u001b[0m\u001b[0;34m[\u001b[0m\u001b[0mengine\u001b[0m\u001b[0;34m]\u001b[0m\u001b[0;34m(\u001b[0m\u001b[0mself\u001b[0m\u001b[0;34m.\u001b[0m\u001b[0mf\u001b[0m\u001b[0;34m,\u001b[0m \u001b[0;34m**\u001b[0m\u001b[0mself\u001b[0m\u001b[0;34m.\u001b[0m\u001b[0moptions\u001b[0m\u001b[0;34m)\u001b[0m  \u001b[0;31m# type: ignore[call-arg]\u001b[0m\u001b[0;34m\u001b[0m\u001b[0;34m\u001b[0m\u001b[0m\n\u001b[0m\u001b[1;32m   1041\u001b[0m \u001b[0;34m\u001b[0m\u001b[0m\n\u001b[1;32m   1042\u001b[0m     \u001b[0;32mdef\u001b[0m \u001b[0m_failover_to_python\u001b[0m\u001b[0;34m(\u001b[0m\u001b[0mself\u001b[0m\u001b[0;34m)\u001b[0m\u001b[0;34m:\u001b[0m\u001b[0;34m\u001b[0m\u001b[0;34m\u001b[0m\u001b[0m\n",
      "\u001b[0;32m~/opt/anaconda3/lib/python3.9/site-packages/pandas/io/parsers/c_parser_wrapper.py\u001b[0m in \u001b[0;36m__init__\u001b[0;34m(self, src, **kwds)\u001b[0m\n\u001b[1;32m     49\u001b[0m \u001b[0;34m\u001b[0m\u001b[0m\n\u001b[1;32m     50\u001b[0m         \u001b[0;31m# open handles\u001b[0m\u001b[0;34m\u001b[0m\u001b[0;34m\u001b[0m\u001b[0m\n\u001b[0;32m---> 51\u001b[0;31m         \u001b[0mself\u001b[0m\u001b[0;34m.\u001b[0m\u001b[0m_open_handles\u001b[0m\u001b[0;34m(\u001b[0m\u001b[0msrc\u001b[0m\u001b[0;34m,\u001b[0m \u001b[0mkwds\u001b[0m\u001b[0;34m)\u001b[0m\u001b[0;34m\u001b[0m\u001b[0;34m\u001b[0m\u001b[0m\n\u001b[0m\u001b[1;32m     52\u001b[0m         \u001b[0;32massert\u001b[0m \u001b[0mself\u001b[0m\u001b[0;34m.\u001b[0m\u001b[0mhandles\u001b[0m \u001b[0;32mis\u001b[0m \u001b[0;32mnot\u001b[0m \u001b[0;32mNone\u001b[0m\u001b[0;34m\u001b[0m\u001b[0;34m\u001b[0m\u001b[0m\n\u001b[1;32m     53\u001b[0m \u001b[0;34m\u001b[0m\u001b[0m\n",
      "\u001b[0;32m~/opt/anaconda3/lib/python3.9/site-packages/pandas/io/parsers/base_parser.py\u001b[0m in \u001b[0;36m_open_handles\u001b[0;34m(self, src, kwds)\u001b[0m\n\u001b[1;32m    220\u001b[0m         \u001b[0mLet\u001b[0m \u001b[0mthe\u001b[0m \u001b[0mreaders\u001b[0m \u001b[0mopen\u001b[0m \u001b[0mIOHandles\u001b[0m \u001b[0mafter\u001b[0m \u001b[0mthey\u001b[0m \u001b[0mare\u001b[0m \u001b[0mdone\u001b[0m \u001b[0;32mwith\u001b[0m \u001b[0mtheir\u001b[0m \u001b[0mpotential\u001b[0m \u001b[0mraises\u001b[0m\u001b[0;34m.\u001b[0m\u001b[0;34m\u001b[0m\u001b[0;34m\u001b[0m\u001b[0m\n\u001b[1;32m    221\u001b[0m         \"\"\"\n\u001b[0;32m--> 222\u001b[0;31m         self.handles = get_handle(\n\u001b[0m\u001b[1;32m    223\u001b[0m             \u001b[0msrc\u001b[0m\u001b[0;34m,\u001b[0m\u001b[0;34m\u001b[0m\u001b[0;34m\u001b[0m\u001b[0m\n\u001b[1;32m    224\u001b[0m             \u001b[0;34m\"r\"\u001b[0m\u001b[0;34m,\u001b[0m\u001b[0;34m\u001b[0m\u001b[0;34m\u001b[0m\u001b[0m\n",
      "\u001b[0;32m~/opt/anaconda3/lib/python3.9/site-packages/pandas/io/common.py\u001b[0m in \u001b[0;36mget_handle\u001b[0;34m(path_or_buf, mode, encoding, compression, memory_map, is_text, errors, storage_options)\u001b[0m\n\u001b[1;32m    700\u001b[0m         \u001b[0;32mif\u001b[0m \u001b[0mioargs\u001b[0m\u001b[0;34m.\u001b[0m\u001b[0mencoding\u001b[0m \u001b[0;32mand\u001b[0m \u001b[0;34m\"b\"\u001b[0m \u001b[0;32mnot\u001b[0m \u001b[0;32min\u001b[0m \u001b[0mioargs\u001b[0m\u001b[0;34m.\u001b[0m\u001b[0mmode\u001b[0m\u001b[0;34m:\u001b[0m\u001b[0;34m\u001b[0m\u001b[0;34m\u001b[0m\u001b[0m\n\u001b[1;32m    701\u001b[0m             \u001b[0;31m# Encoding\u001b[0m\u001b[0;34m\u001b[0m\u001b[0;34m\u001b[0m\u001b[0m\n\u001b[0;32m--> 702\u001b[0;31m             handle = open(\n\u001b[0m\u001b[1;32m    703\u001b[0m                 \u001b[0mhandle\u001b[0m\u001b[0;34m,\u001b[0m\u001b[0;34m\u001b[0m\u001b[0;34m\u001b[0m\u001b[0m\n\u001b[1;32m    704\u001b[0m                 \u001b[0mioargs\u001b[0m\u001b[0;34m.\u001b[0m\u001b[0mmode\u001b[0m\u001b[0;34m,\u001b[0m\u001b[0;34m\u001b[0m\u001b[0;34m\u001b[0m\u001b[0m\n",
      "\u001b[0;31mFileNotFoundError\u001b[0m: [Errno 2] No such file or directory: 'adult.input'"
     ]
    }
   ],
   "source": [
    "# Read csv file\n",
    "census_input = pd.read_csv(\"adult.input\")"
   ]
  },
  {
   "cell_type": "code",
   "execution_count": null,
   "id": "c5c37b08",
   "metadata": {
    "scrolled": true
   },
   "outputs": [],
   "source": [
    "# Display dataframe\n",
    "census_input"
   ]
  },
  {
   "cell_type": "code",
   "execution_count": null,
   "id": "e4712dad",
   "metadata": {},
   "outputs": [],
   "source": [
    "census_input.shape"
   ]
  },
  {
   "cell_type": "code",
   "execution_count": null,
   "id": "6105313f",
   "metadata": {},
   "outputs": [],
   "source": [
    "census_input.columns"
   ]
  },
  {
   "cell_type": "code",
   "execution_count": null,
   "id": "3f04a56c",
   "metadata": {},
   "outputs": [],
   "source": [
    "# Remove fnlwgt, education, and relationship\n",
    "census_input_subset = census_input [['age', 'type_employer', 'education_num',\n",
    "       'marital', 'occupation', 'race', 'sex', 'capital_gain',\n",
    "       'capital_loss', 'hr_per_week', 'country', 'income']]\n",
    "census_input_subset"
   ]
  },
  {
   "cell_type": "code",
   "execution_count": null,
   "id": "0c73fb1e",
   "metadata": {},
   "outputs": [],
   "source": [
    "# Check for missing values\n",
    "census_input_subset.isna().sum()"
   ]
  },
  {
   "cell_type": "code",
   "execution_count": null,
   "id": "b3e7c413",
   "metadata": {
    "scrolled": true
   },
   "outputs": [],
   "source": [
    "census_input_subset.describe(include=[\"O\"])"
   ]
  },
  {
   "cell_type": "code",
   "execution_count": null,
   "id": "5e74902c",
   "metadata": {},
   "outputs": [],
   "source": [
    "# Replacw ? in dataset with NaN values\n",
    "census_input_subset = census_input_subset.replace('?', np.nan )"
   ]
  },
  {
   "cell_type": "code",
   "execution_count": null,
   "id": "38591e67",
   "metadata": {},
   "outputs": [],
   "source": [
    "# Drop the rows that have NaN values\n",
    "census_input_subset = census_input_subset.dropna()"
   ]
  },
  {
   "cell_type": "code",
   "execution_count": null,
   "id": "dc337469",
   "metadata": {},
   "outputs": [],
   "source": [
    "# Resetting the indices using df.reset_index()\n",
    "census_input_subset = census_input_subset.reset_index(drop=True)"
   ]
  },
  {
   "cell_type": "code",
   "execution_count": null,
   "id": "a7f7ece3",
   "metadata": {},
   "outputs": [],
   "source": [
    "census_input_subset"
   ]
  },
  {
   "cell_type": "code",
   "execution_count": null,
   "id": "0b64c523",
   "metadata": {},
   "outputs": [],
   "source": [
    "# Check for data types\n",
    "census_input_subset.dtypes"
   ]
  },
  {
   "cell_type": "code",
   "execution_count": null,
   "id": "c1429d0f",
   "metadata": {},
   "outputs": [],
   "source": [
    "# Display histograms to explore data\n",
    "census_input_subset.hist(bins=60, figsize=(20,10))"
   ]
  },
  {
   "cell_type": "code",
   "execution_count": null,
   "id": "84fdd6d4",
   "metadata": {},
   "outputs": [],
   "source": [
    "census_input_subset['education_num'].value_counts()"
   ]
  },
  {
   "cell_type": "code",
   "execution_count": null,
   "id": "7ae8d585",
   "metadata": {},
   "outputs": [],
   "source": [
    "# Binarization of capital_gain and capital losses\n",
    "#cg = census_input_subset.iloc[:, 7].values\n",
    "#cg = census_input_subset['capital_gain'].values\n",
    "#cg = cg.reshape (1, -1)\n",
    "\n",
    "#cl = census_input_subset.iloc[:, 8].values\n",
    "#cl = census_input_subset['capital_loss'].values\n",
    "#cl = cl.reshape (1, -1)\n",
    "\n",
    "# capital-gain (yes:>0, no:=0) threshold=1\n",
    "#cg_bin = Binarizer(threshold = 1)\n",
    "# capital-loss (yes:>0, no:=0) threshold=1\n",
    "#cl_bin = Binarizer(threshold = 1)\n",
    "\n",
    "#capitalGain = cg_bin.fit_transform(cg)\n",
    "#capitalLoss = cg_bin.fit_transform(cl)\n",
    "#print(capitalGain)\n",
    "#print(capitalLoss)\n",
    "#x=cg_bin.fit_transform(cg)\n",
    "#print(cg_bin.fit_transform(cl))\n",
    "#print(x)\n"
   ]
  },
  {
   "cell_type": "code",
   "execution_count": null,
   "id": "89dad016",
   "metadata": {},
   "outputs": [],
   "source": [
    "census_input_sub = census_input_subset [['age', 'type_employer', 'education_num',\n",
    "       'marital', 'occupation', 'race', 'sex', 'capital_gain',\n",
    "       'capital_loss', 'hr_per_week', 'country', 'income']]\n",
    "census_input_sub"
   ]
  },
  {
   "cell_type": "code",
   "execution_count": null,
   "id": "ea48f35e",
   "metadata": {},
   "outputs": [],
   "source": [
    "# Binarize capital_gain\n",
    "census_input_sub['capital_gain_bin'] = census_input_sub['capital_gain'].astype('bool')\n",
    "print(census_input_sub['capital_gain_bin'])\n",
    "print(census_input_sub['capital_gain'])"
   ]
  },
  {
   "cell_type": "code",
   "execution_count": null,
   "id": "46607f70",
   "metadata": {},
   "outputs": [],
   "source": [
    "# Binarize capital_loss\n",
    "census_input_sub['capital_loss_bin'] = census_input_sub['capital_loss'].astype('bool')\n",
    "print(census_input_sub['capital_loss_bin'])\n",
    "print(census_input_sub['capital_loss'])\n",
    "census_input_sub['capital_loss_bin'].value_counts()"
   ]
  },
  {
   "cell_type": "code",
   "execution_count": null,
   "id": "0a39978c",
   "metadata": {},
   "outputs": [],
   "source": [
    "census_input_sub['capital_gain_bin'].value_counts()\n"
   ]
  },
  {
   "cell_type": "code",
   "execution_count": null,
   "id": "9d48892a",
   "metadata": {},
   "outputs": [],
   "source": [
    "census_input_sub\n"
   ]
  },
  {
   "cell_type": "code",
   "execution_count": null,
   "id": "f6208d01",
   "metadata": {},
   "outputs": [],
   "source": [
    "# Factorize country\n",
    "countries = pd.get_dummies(census_input_sub['country'])\n",
    "countries"
   ]
  },
  {
   "cell_type": "code",
   "execution_count": null,
   "id": "a6158011",
   "metadata": {},
   "outputs": [],
   "source": [
    "# Assign the value 1 for United State\n",
    "United_States = countries['United-States']\n",
    "print(United_States)"
   ]
  },
  {
   "cell_type": "code",
   "execution_count": null,
   "id": "a01834ff",
   "metadata": {},
   "outputs": [],
   "source": [
    "# Create a new column for binarized country where 1 is for United States and 0 for other\n",
    "census_input_sub['country_bin'] = United_States\n",
    "census_input_sub"
   ]
  },
  {
   "cell_type": "code",
   "execution_count": null,
   "id": "7b16d7dc",
   "metadata": {},
   "outputs": [],
   "source": [
    "# Factorize sex and assing the value 1 for female\n",
    "sex = pd.get_dummies(census_input_sub['sex'])\n",
    "female = sex['Female']\n",
    "\n",
    "# Create a new column for binarized sex where female is 1 and males is 0\n",
    "census_input_sub['sex_bin'] = female"
   ]
  },
  {
   "cell_type": "code",
   "execution_count": null,
   "id": "a14f082d",
   "metadata": {},
   "outputs": [],
   "source": [
    "# Discretize age into 4 different bins\n",
    "bins = [0, 25, 45, 65, 90]\n",
    "census_input_sub['age_dis'] = pd.cut(census_input_sub['age'], bins, labels = ['young', 'adult', 'senior', 'old'], include_lowest = True)\n",
    "\n",
    "print(census_input_sub['age'])\n",
    "print(census_input_sub['age_dis'])"
   ]
  },
  {
   "cell_type": "code",
   "execution_count": null,
   "id": "9e8ac2c8",
   "metadata": {},
   "outputs": [],
   "source": [
    "# Convert age into asymetric binary attributes\n",
    "age = pd.get_dummies(census_input_sub['age_dis'])\n",
    "age\n"
   ]
  },
  {
   "cell_type": "code",
   "execution_count": null,
   "id": "8863c87b",
   "metadata": {},
   "outputs": [],
   "source": [
    "# Create a new column for discretized age and drop the old column for age\n",
    "census_input_sub = pd.concat([census_input_sub.drop(['age_dis'],axis=1), age],axis=1)"
   ]
  },
  {
   "cell_type": "code",
   "execution_count": null,
   "id": "e0ed655d",
   "metadata": {},
   "outputs": [],
   "source": [
    "bins = [0, 39, 40, 70]\n",
    "census_input_sub['hr_per_week_dis'] = pd.cut(census_input_sub['hr_per_week'], bins, labels = ['part-time', 'full-time', 'over-time'], include_lowest = True)\n",
    "\n",
    "print(census_input_sub['hr_per_week'])\n",
    "print(census_input_sub['hr_per_week_dis'])"
   ]
  },
  {
   "cell_type": "code",
   "execution_count": null,
   "id": "f4b87649",
   "metadata": {},
   "outputs": [],
   "source": [
    "# Discretize hr_per_week into 3 different bins\n",
    "hr_per_week = pd.get_dummies(census_input_sub['hr_per_week_dis'])\n",
    "hr_per_week"
   ]
  },
  {
   "cell_type": "code",
   "execution_count": null,
   "id": "7268167d",
   "metadata": {},
   "outputs": [],
   "source": [
    "# Create a new column for discretized hr_per_week and drop the old column for hr_per_week\n",
    "census_input_sub = pd.concat([census_input_sub.drop(['hr_per_week_dis'],axis=1), hr_per_week],axis=1)"
   ]
  },
  {
   "cell_type": "code",
   "execution_count": null,
   "id": "aeca6c4a",
   "metadata": {},
   "outputs": [],
   "source": [
    "# Check for possible valus for race\n",
    "census_input_sub['race'].value_counts()"
   ]
  },
  {
   "cell_type": "code",
   "execution_count": null,
   "id": "56c361dc",
   "metadata": {},
   "outputs": [],
   "source": [
    "# Factorize race to convert it into asymetric binary attributes\n",
    "race = pd.get_dummies(census_input_sub['race'])\n",
    "race"
   ]
  },
  {
   "cell_type": "code",
   "execution_count": null,
   "id": "e112b959",
   "metadata": {},
   "outputs": [],
   "source": [
    "# Create a new columns race and drop the old categorical column\n",
    "census_input_sub = pd.concat([census_input_sub.drop(['race'],axis=1), race],axis=1)"
   ]
  },
  {
   "cell_type": "code",
   "execution_count": null,
   "id": "fb6cce1f",
   "metadata": {},
   "outputs": [],
   "source": [
    "census_input_sub"
   ]
  },
  {
   "cell_type": "code",
   "execution_count": null,
   "id": "7e6315bf",
   "metadata": {},
   "outputs": [],
   "source": [
    "# creating a blank series\n",
    "Not_married = pd.Series(['int32'])\n",
    " \n",
    "# running a for loop and assigning some values to series\n",
    "for i in range(len(census_input_sub)):\n",
    "    if census_input_sub[\"marital\"][i] == \"Married-spouse-absent\":\n",
    "        Not_married[i] = 1\n",
    " \n",
    "    elif census_input_sub[\"marital\"][i] == \"Separated\":\n",
    "        Not_married[i] = 1\n",
    " \n",
    "    elif census_input_sub[\"marital\"][i] == \"Divorced\":\n",
    "        Not_married[i] = 1\n",
    "        \n",
    "    elif census_input_sub[\"marital\"][i] == \"Widowed\":\n",
    "        Not_married[i]= 1\n",
    " \n",
    "    else:\n",
    "        Not_married[i] = 0\n",
    "         \n",
    "# inserting new column with values of list made above       \n",
    "census_input_sub.insert(2, \"not-married\", Not_married)\n",
    " \n",
    "# list output\n",
    "census_input_sub"
   ]
  },
  {
   "cell_type": "code",
   "execution_count": null,
   "id": "94021b9f",
   "metadata": {},
   "outputs": [],
   "source": [
    "# creating a blank series\n",
    "Married = pd.Series(['int32'])\n",
    " \n",
    "# running a for loop and assigning some values to series\n",
    "for i in range(len(census_input_sub)):\n",
    "    if census_input_sub[\"marital\"][i] == \"Married-AF-spouse\":\n",
    "        Married[i] = 1\n",
    " \n",
    "    elif census_input_sub[\"marital\"][i] == \"Married-civ-spouse\":\n",
    "        Married[i] = 1\n",
    " \n",
    "    else:\n",
    "        Married[i] = 0\n",
    "         \n",
    "# inserting new column with values of list made above       \n",
    "census_input_sub.insert(2, \"married\", Married)\n",
    " \n",
    "# list output\n",
    "census_input_sub"
   ]
  },
  {
   "cell_type": "code",
   "execution_count": null,
   "id": "1e783c14",
   "metadata": {},
   "outputs": [],
   "source": [
    "# creating a blank series\n",
    "Never_married = pd.Series(['int32'])\n",
    " \n",
    "# running a for loop and assigning some values to series\n",
    "for i in range(len(census_input_sub)):\n",
    "    if census_input_sub[\"marital\"][i] == \"Never-married\":\n",
    "        Never_married[i] = 1\n",
    " \n",
    "    else:\n",
    "        Never_married[i] = 0\n",
    "         \n",
    "# inserting new column with values of list made above       \n",
    "census_input_sub.insert(2, \"never_married\", Never_married)\n",
    " \n",
    "# list output\n",
    "census_input_sub"
   ]
  },
  {
   "cell_type": "code",
   "execution_count": null,
   "id": "8a092e75",
   "metadata": {},
   "outputs": [],
   "source": [
    "census_input_sub.drop(['capital_gain', 'capital_loss', 'country', 'sex', 'age', 'hr_per_week', 'marital'], axis=1)"
   ]
  },
  {
   "cell_type": "code",
   "execution_count": null,
   "id": "807ab5fb",
   "metadata": {},
   "outputs": [],
   "source": [
    "# creating a blank series\n",
    "Gov = pd.Series(['int32'])\n",
    " \n",
    "# running a for loop and assigning some values to series\n",
    "for i in range(len(census_input_sub)):\n",
    "    if census_input_sub[\"type_employer\"][i] == \"Federal-gov\":\n",
    "        Gov[i] = 1\n",
    " \n",
    "    elif census_input_sub[\"type_employer\"][i] == \"Local-gov\":\n",
    "        Gov[i] = 1\n",
    " \n",
    "    elif census_input_sub[\"type_employer\"][i] == \"State-gov\":\n",
    "        Gov[i] = 1\n",
    " \n",
    "    else:\n",
    "        Gov[i] = 0\n",
    "         \n",
    "# inserting new column with values of list made above       \n",
    "census_input_sub.insert(2, \"gov\", Gov)\n",
    " \n",
    "# list output\n",
    "census_input_sub"
   ]
  },
  {
   "cell_type": "code",
   "execution_count": null,
   "id": "e5c2a9d0",
   "metadata": {},
   "outputs": [],
   "source": [
    "# creating a blank series\n",
    "Not_working = pd.Series(['int32'])\n",
    " \n",
    "# running a for loop and assigning some values to series\n",
    "for i in range(len(census_input_sub)):\n",
    "    if census_input_sub[\"type_employer\"][i] == \"Without-pay\":\n",
    "        Not_working[i] = 1\n",
    " \n",
    "    elif census_input_sub[\"type_employer\"][i] == \"Never-worked\":\n",
    "        Not_working[i] = 1\n",
    " \n",
    "    else:\n",
    "        Not_working[i] = 0\n",
    "         \n",
    "# inserting new column with values of list made above       \n",
    "census_input_sub.insert(2, \"not_working\", Not_working)\n",
    " \n",
    "# list output\n",
    "census_input_sub"
   ]
  },
  {
   "cell_type": "code",
   "execution_count": null,
   "id": "9d35f8aa",
   "metadata": {},
   "outputs": [],
   "source": [
    "# creating a blank series\n",
    "Private = pd.Series(['int32'])\n",
    " \n",
    "# running a for loop and assigning some values to series\n",
    "for i in range(len(census_input_sub)):\n",
    "    if census_input_sub[\"type_employer\"][i] == \"Private\":\n",
    "        Private[i] = 1\n",
    " \n",
    "    else:\n",
    "        Private[i] = 0\n",
    "         \n",
    "# inserting new column with values of list made above       \n",
    "census_input_sub.insert(2, \"private\", Private)\n",
    " \n",
    "# list output\n",
    "census_input_sub"
   ]
  },
  {
   "cell_type": "code",
   "execution_count": null,
   "id": "eed92814",
   "metadata": {},
   "outputs": [],
   "source": [
    "# creating a blank series\n",
    "Self_employed = pd.Series(['int32'])\n",
    " \n",
    "# running a for loop and assigning some values to series\n",
    "for i in range(len(census_input_sub)):\n",
    "    if census_input_sub[\"type_employer\"][i] == \"Self-emp-inc\":\n",
    "        Self_employed[i] = 1\n",
    " \n",
    "    elif census_input_sub[\"type_employer\"][i] == \"Self-emp-not-inc\":\n",
    "        Self_employed[i] = 1\n",
    " \n",
    "    else:\n",
    "        Self_employed[i] = 0\n",
    "         \n",
    "# inserting new column with values of list made above       \n",
    "census_input_sub.insert(2, \"self_employed\", Self_employed)\n",
    " \n",
    "# list output\n",
    "census_input_sub"
   ]
  },
  {
   "cell_type": "code",
   "execution_count": null,
   "id": "c7e43ad8",
   "metadata": {},
   "outputs": [],
   "source": [
    "# creating a blank series\n",
    "Other = pd.Series(['int32'])\n",
    " \n",
    "# running a for loop and assigning some values to series\n",
    "for i in range(len(census_input_sub)):\n",
    "    if census_input_sub[\"occupation\"][i] == \"Tech-support\":\n",
    "        Other[i] = 1\n",
    " \n",
    "    elif census_input_sub[\"occupation\"][i] == \"Adm-clerical\":\n",
    "        Other[i] = 1\n",
    " \n",
    "    elif census_input_sub[\"occupation\"][i] == \"Priv-house-serv\":\n",
    "        Other[i] = 1\n",
    "        \n",
    "    elif census_input_sub[\"occupation\"][i] == \"Protective-serv\":\n",
    "        Other[i]= 1\n",
    " \n",
    "    elif census_input_sub[\"occupation\"][i] == \"Armed-Forces\":\n",
    "        Other[i]= 1\n",
    "        \n",
    "    elif census_input_sub[\"occupation\"][i] == \"Other-service\":\n",
    "        Other[i]= 1\n",
    "\n",
    "    else:\n",
    "        Other[i] = 0\n",
    "         \n",
    "# inserting new column with values of list made above       \n",
    "census_input_sub.insert(2, \"other\", Other)\n",
    " \n",
    "# list output\n",
    "census_input_sub"
   ]
  },
  {
   "cell_type": "code",
   "execution_count": null,
   "id": "24873526",
   "metadata": {},
   "outputs": [],
   "source": [
    "# creating a blank series\n",
    "Exec_managerial = pd.Series(['int32'])\n",
    " \n",
    "# running a for loop and assigning some values to series\n",
    "for i in range(len(census_input_sub)):\n",
    "    if census_input_sub[\"occupation\"][i] == \"Exec-managerial\":\n",
    "        Exec_managerial[i] = 1\n",
    " \n",
    "    else:\n",
    "        Exec_managerial[i] = 0\n",
    "         \n",
    "# inserting new column with values of list made above       \n",
    "census_input_sub.insert(2, \"exec_managerial\", Exec_managerial)\n",
    " \n",
    "# list output\n",
    "census_input_sub"
   ]
  },
  {
   "cell_type": "code",
   "execution_count": null,
   "id": "09b03f6c",
   "metadata": {},
   "outputs": [],
   "source": [
    "# creating a blank series\n",
    "Prof_specialty = pd.Series(['int32'])\n",
    " \n",
    "# running a for loop and assigning some values to series\n",
    "for i in range(len(census_input_sub)):\n",
    "    if census_input_sub[\"occupation\"][i] == \"Prof-specialty\":\n",
    "        Prof_specialty[i] = 1\n",
    " \n",
    "    else:\n",
    "        Prof_specialty[i] = 0\n",
    "         \n",
    "# inserting new column with values of list made above       \n",
    "census_input_sub.insert(2, \"prof_specialty\", Prof_specialty)\n",
    " \n",
    "# list output\n",
    "census_input_sub"
   ]
  },
  {
   "cell_type": "code",
   "execution_count": null,
   "id": "8462f3f4",
   "metadata": {},
   "outputs": [],
   "source": [
    "# creating a blank series\n",
    "Sales = pd.Series(['int32'])\n",
    " \n",
    "# running a for loop and assigning some values to series\n",
    "for i in range(len(census_input_sub)):\n",
    "    if census_input_sub[\"occupation\"][i] == \"Sales\":\n",
    "        Sales[i] = 1\n",
    " \n",
    "    else:\n",
    "        Sales[i] = 0\n",
    "         \n",
    "# inserting new column with values of list made above       \n",
    "census_input_sub.insert(2, \"sales\", Sales)\n",
    " \n",
    "# list output\n",
    "census_input_sub"
   ]
  },
  {
   "cell_type": "code",
   "execution_count": null,
   "id": "80b98798",
   "metadata": {},
   "outputs": [],
   "source": [
    "# creating a blank series\n",
    "ManualWork = pd.Series(['int32'])\n",
    " \n",
    "# running a for loop and assigning some values to series\n",
    "for i in range(len(census_input_sub)):\n",
    "    if census_input_sub[\"occupation\"][i] == \"Craft-repair\":\n",
    "        ManualWork[i] = 1\n",
    " \n",
    "    elif census_input_sub[\"occupation\"][i] == \"Farming-fishing\":\n",
    "        ManualWork[i] = 1\n",
    " \n",
    "    elif census_input_sub[\"occupation\"][i] == \"Handlers-cleaners\":\n",
    "        ManualWork[i] = 1\n",
    "        \n",
    "    elif census_input_sub[\"occupation\"][i] == \"Machine-op-inspct\":\n",
    "        ManualWork[i]= 1\n",
    " \n",
    "    elif census_input_sub[\"occupation\"][i] == \"Transport-moving\":\n",
    "        ManualWork[i]= 1\n",
    "\n",
    "    else:\n",
    "        ManualWork[i] = 0\n",
    "         \n",
    "# inserting new column with values of list made above       \n",
    "census_input_sub.insert(2, \"manual_work\", ManualWork)\n",
    " \n",
    "# list output\n",
    "census_input_sub"
   ]
  },
  {
   "cell_type": "code",
   "execution_count": null,
   "id": "6e18016f",
   "metadata": {},
   "outputs": [],
   "source": [
    "# Display dataframe with all columns\n",
    "pd.set_option('display.max_columns', None)"
   ]
  },
  {
   "cell_type": "code",
   "execution_count": null,
   "id": "c4e942a1",
   "metadata": {},
   "outputs": [],
   "source": [
    "# Factorize income\n",
    "income = pd.get_dummies(census_input_sub['income'])\n",
    "income"
   ]
  },
  {
   "cell_type": "code",
   "execution_count": null,
   "id": "3290d756",
   "metadata": {},
   "outputs": [],
   "source": [
    "# Assign the value 1 for income over 50K\n",
    "over50k = income['>50K']\n",
    "print(over50k)"
   ]
  },
  {
   "cell_type": "code",
   "execution_count": null,
   "id": "419f5846",
   "metadata": {},
   "outputs": [],
   "source": [
    "# Merge values in one binarized new income column where 1 is assigned for incomes over 50K\n",
    "census_input_sub['income'] = over50k\n",
    "census_input_sub"
   ]
  },
  {
   "cell_type": "code",
   "execution_count": null,
   "id": "39fb364e",
   "metadata": {},
   "outputs": [],
   "source": [
    "# Factorize education_num in order to convert it into asymetric binary attributes\n",
    "education_num = pd.get_dummies(census_input_sub['education_num'])\n",
    "education_num"
   ]
  },
  {
   "cell_type": "code",
   "execution_count": null,
   "id": "c36c9a07",
   "metadata": {},
   "outputs": [],
   "source": [
    "# Concatenate new attributes into the dataframe and drop the old numerical attribute\n",
    "census_input_sub = pd.concat([census_input_sub.drop(['education_num'],axis=1), education_num],axis=1)"
   ]
  },
  {
   "cell_type": "code",
   "execution_count": null,
   "id": "82e15f84",
   "metadata": {},
   "outputs": [],
   "source": [
    "census_input_sub"
   ]
  },
  {
   "cell_type": "code",
   "execution_count": null,
   "id": "9830933b",
   "metadata": {},
   "outputs": [],
   "source": [
    "# shift column 'income' to last position\n",
    "last_column = census_input_sub.pop('income')\n",
    "  \n",
    "# insert column using insert(position,column_name,last_column) function\n",
    "census_input_sub.insert(53, 'income', last_column)\n",
    "\n",
    "census_input_sub"
   ]
  },
  {
   "cell_type": "code",
   "execution_count": null,
   "id": "26686cd2",
   "metadata": {
    "scrolled": true
   },
   "outputs": [],
   "source": [
    "# Drop unnecessary categorical columns\n",
    "census_input_s = census_input_sub.drop(['capital_gain', 'capital_loss', 'country', 'sex', 'age', 'hr_per_week', 'marital', 'type_employer','occupation'], axis=1)\n",
    "census_input_s"
   ]
  },
  {
   "cell_type": "code",
   "execution_count": null,
   "id": "102c33cd",
   "metadata": {},
   "outputs": [],
   "source": [
    "# Get dataframe size and dimentionality\n",
    "shape = census_input_s.shape \n",
    "\n",
    "\n",
    "# printing size and dimentionality\n",
    "print(\"Input data: {}\".format(shape))"
   ]
  },
  {
   "cell_type": "code",
   "execution_count": null,
   "id": "d2d36ce3",
   "metadata": {},
   "outputs": [],
   "source": [
    "# Reorder columns\n",
    "#column_order = ['young', 'adult', 'senior', 'old',  'gov', 'not_working', 'private', 'self_employed', 1, 2, 3, \n",
    "                #4, 5, 6, 7, 8, 9, 10, 11, 12, 13, 14, 15, 16,'married', 'never_married','not-married', \n",
    "                #'exec_managerial', 'prof_specialty', 'other','manual_work', 'sales', 'Black', 'White', \n",
    "                #'Amer-Indian-Eskimo', 'Asian-Pac-Islander', 'Other', 'sex_bin', 'capital_gain_bin', \n",
    "                #'capital_loss_bin', 'part-time', 'full-time', 'over-time', 'country_bin', 'income']\n",
    "#census_input_s = census_input_s.reindex(columns=column_order)"
   ]
  },
  {
   "cell_type": "code",
   "execution_count": null,
   "id": "09d8a6e5",
   "metadata": {},
   "outputs": [],
   "source": [
    "# Export cleaned and filtered dataframe\n",
    "census_input_s.to_csv('adult.input-filtered.csv')"
   ]
  }
 ],
 "metadata": {
  "kernelspec": {
   "display_name": "Python 3 (ipykernel)",
   "language": "python",
   "name": "python3"
  },
  "language_info": {
   "codemirror_mode": {
    "name": "ipython",
    "version": 3
   },
   "file_extension": ".py",
   "mimetype": "text/x-python",
   "name": "python",
   "nbconvert_exporter": "python",
   "pygments_lexer": "ipython3",
   "version": "3.9.7"
  }
 },
 "nbformat": 4,
 "nbformat_minor": 5
}
